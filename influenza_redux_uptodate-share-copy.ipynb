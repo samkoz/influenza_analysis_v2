{
 "cells": [
  {
   "cell_type": "code",
   "execution_count": 1,
   "metadata": {
    "collapsed": false
   },
   "outputs": [],
   "source": [
    "from datetime import datetime, date\n",
    "import numpy as np\n",
    "import pandas as pd\n",
    "import matplotlib.pyplot as plt\n",
    "from collections import Counter\n",
    "%matplotlib inline"
   ]
  },
  {
   "cell_type": "code",
   "execution_count": 6,
   "metadata": {
    "collapsed": false
   },
   "outputs": [
    {
     "name": "stdout",
     "output_type": "stream",
     "text": [
      "Wall time: 18 s\n"
     ]
    }
   ],
   "source": [
    "%%time\n",
    "# original data\n",
    "df = pd.read_csv(\"Flu_3.01.17.csv\")\n",
    "df.AGE_IN_MONTHS = df.AGE_IN_MONTHS.astype(int)"
   ]
  },
  {
   "cell_type": "code",
   "execution_count": 7,
   "metadata": {
    "collapsed": true
   },
   "outputs": [],
   "source": [
    "# date convert function\n",
    "def date_convert(d):\n",
    "    vac_date = d[:2] + \" \" + d[2:5] + \" \" + d[5:9]\n",
    "    vac_date = datetime.strptime(vac_date, '%d %b %Y')\n",
    "    return vac_date\n",
    "\n",
    "# Apply date convert function to VACCINATION_DATE\n",
    "updated_dates = df.VACCINATION_DATE.apply(lambda row: date_convert(row))\n",
    "\n",
    "# convert VACCINATION_DATE column to more useable form\n",
    "df.VACCINATION_DATE = updated_dates\n",
    "\n",
    "# drop unnecessary columns\n",
    "df = df[[\"ID\", \"VACCINATION_DATE\", \"ENTERED_BY_ORG\", \"AGE_IN_MONTHS\"]]"
   ]
  },
  {
   "cell_type": "code",
   "execution_count": 8,
   "metadata": {
    "collapsed": false
   },
   "outputs": [
    {
     "data": {
      "text/html": [
       "<div>\n",
       "<table border=\"1\" class=\"dataframe\">\n",
       "  <thead>\n",
       "    <tr style=\"text-align: right;\">\n",
       "      <th></th>\n",
       "      <th>vacs_administered</th>\n",
       "    </tr>\n",
       "    <tr>\n",
       "      <th>VACCINATION_DATE</th>\n",
       "      <th></th>\n",
       "    </tr>\n",
       "  </thead>\n",
       "  <tbody>\n",
       "    <tr>\n",
       "      <th>2009</th>\n",
       "      <td>1389376.0</td>\n",
       "    </tr>\n",
       "    <tr>\n",
       "      <th>2010</th>\n",
       "      <td>1732338.0</td>\n",
       "    </tr>\n",
       "    <tr>\n",
       "      <th>2011</th>\n",
       "      <td>1832739.0</td>\n",
       "    </tr>\n",
       "    <tr>\n",
       "      <th>2012</th>\n",
       "      <td>1924775.0</td>\n",
       "    </tr>\n",
       "    <tr>\n",
       "      <th>2013</th>\n",
       "      <td>2161381.0</td>\n",
       "    </tr>\n",
       "    <tr>\n",
       "      <th>2014</th>\n",
       "      <td>2053113.0</td>\n",
       "    </tr>\n",
       "    <tr>\n",
       "      <th>2015</th>\n",
       "      <td>2063192.0</td>\n",
       "    </tr>\n",
       "    <tr>\n",
       "      <th>2016</th>\n",
       "      <td>182670.0</td>\n",
       "    </tr>\n",
       "    <tr>\n",
       "      <th>total</th>\n",
       "      <td>13339584.0</td>\n",
       "    </tr>\n",
       "  </tbody>\n",
       "</table>\n",
       "</div>"
      ],
      "text/plain": [
       "                  vacs_administered\n",
       "VACCINATION_DATE                   \n",
       "2009                      1389376.0\n",
       "2010                      1732338.0\n",
       "2011                      1832739.0\n",
       "2012                      1924775.0\n",
       "2013                      2161381.0\n",
       "2014                      2053113.0\n",
       "2015                      2063192.0\n",
       "2016                       182670.0\n",
       "total                    13339584.0"
      ]
     },
     "execution_count": 8,
     "metadata": {},
     "output_type": "execute_result"
    }
   ],
   "source": [
    "# Group by Year, drop unnecessary columns and add a vacs_administered column\n",
    "df_annual = df.groupby(df['VACCINATION_DATE'].map(lambda x: x.year)).count()\n",
    "df_annual['vacs_administered'] = df_annual.ID\n",
    "df_annual.drop(df_annual.columns[:-1], 1, inplace=True)\n",
    "df_annual.loc['total', 'vacs_administered'] = df_annual.vacs_administered.sum()\n",
    "\n",
    "df_annual"
   ]
  },
  {
   "cell_type": "code",
   "execution_count": 6,
   "metadata": {
    "collapsed": false
   },
   "outputs": [
    {
     "data": {
      "image/png": "[encoded data removed]",
      "text/plain": [
       "<matplotlib.figure.Figure at 0x1957fafeac8>"
      ]
     },
     "metadata": {},
     "output_type": "display_data"
    }
   ],
   "source": [
    "plt.bar(df_annual.index[:8], df_annual.vacs_administered[:8])\n",
    "plt.show()"
   ]
  },
  {
   "cell_type": "code",
   "execution_count": 7,
   "metadata": {
    "collapsed": true
   },
   "outputs": [],
   "source": [
    "# groupby month, rename columns, drop ID column and add a total\n",
    "df_by_month = df.groupby(by=df['VACCINATION_DATE'].map(\n",
    "    lambda x: x.month)).count().drop(df.columns[1:], 1)\n",
    "df_by_month['Vaccines_Administered'] = df_by_month.ID\n",
    "df_by_month.drop('ID', 1, inplace=True)\n",
    "df_by_month.loc['total'] = df_by_month.Vaccines_Administered.sum()"
   ]
  },
  {
   "cell_type": "code",
   "execution_count": 8,
   "metadata": {
    "collapsed": false,
    "scrolled": true
   },
   "outputs": [
    {
     "data": {
      "image/png": "[encoded data removed]",
      "text/plain": [
       "<matplotlib.figure.Figure at 0x1957f7b67b8>"
      ]
     },
     "metadata": {},
     "output_type": "display_data"
    }
   ],
   "source": [
    "plt.bar(df.index[:12]+1, df_by_month.Vaccines_Administered[:12])\n",
    "plt.show()"
   ]
  },
  {
   "cell_type": "code",
   "execution_count": 9,
   "metadata": {
    "collapsed": true
   },
   "outputs": [],
   "source": [
    "df_months = df.groupby('AGE_IN_MONTHS').count()\n",
    "df_months.drop(df_months.columns[1:], 1, inplace=True)"
   ]
  },
  {
   "cell_type": "code",
   "execution_count": 9,
   "metadata": {
    "collapsed": true
   },
   "outputs": [],
   "source": [
    "def define_flu_season(row):\n",
    "    month = row.month\n",
    "    year = row.year\n",
    "    if month in [7, 8, 9, 10, 11, 12]:\n",
    "        return year\n",
    "    elif month in [1, 2, 3, 4, 5, 6]:\n",
    "        return year-1"
   ]
  },
  {
   "cell_type": "code",
   "execution_count": 10,
   "metadata": {
    "collapsed": true
   },
   "outputs": [],
   "source": [
    "df = df.assign(flu_season = df['VACCINATION_DATE'].map(lambda row: define_flu_season(row)))\n",
    "df = df.assign(VACCINE_COUNT = 1)\n",
    "df_vaccine_counts = df"
   ]
  },
  {
   "cell_type": "code",
   "execution_count": 11,
   "metadata": {
    "collapsed": true
   },
   "outputs": [],
   "source": [
    "# get a transform of vacs per season\n",
    "vaccines_per_season = df_vaccine_counts.groupby(['ID', 'flu_season'])['VACCINE_COUNT'].transform(np.sum)\n",
    "\n",
    "# add column to df\n",
    "df[\"vaccines_per_season\"] = vaccines_per_season\n",
    "\n",
    "# transform of max_age for season (for purpose of separating into >96m and <= 96m)\n",
    "df['max_age_for_season'] = df.groupby(['ID', 'flu_season'])[\"AGE_IN_MONTHS\"].transform(max)\n",
    "\n",
    "# add appropriate column; will change this to false pending on results of below queries\n",
    "df['appropriate'] = True\n",
    "\n",
    "# add a unique clinics column\n",
    "df['nunique_clinics_per_season'] = df.groupby(['ID', 'flu_season'])['ENTERED_BY_ORG'].transform(pd.Series.nunique)\n",
    "\n",
    "# start with those age > 96\n",
    "older_than_96 = df[df.max_age_for_season > 96]\n",
    "\n",
    "# those <= 96\n",
    "younger_than_96 = df[df.max_age_for_season <= 96]"
   ]
  },
  {
   "cell_type": "code",
   "execution_count": 68,
   "metadata": {
    "collapsed": false,
    "scrolled": true
   },
   "outputs": [
    {
     "name": "stdout",
     "output_type": "stream",
     "text": [
      "Count:  10000\n",
      "Count:  20000\n",
      "Count:  30000\n",
      "Count:  40000\n",
      "Count:  50000\n",
      "Count:  60000\n",
      "Count:  70000\n",
      "Count:  80000\n",
      "Count:  90000\n",
      "Count:  100000\n",
      "Count:  110000\n",
      "Count:  120000\n",
      "Count:  130000\n",
      "Count:  140000\n",
      "Count:  150000\n",
      "Count:  160000\n",
      "Count:  170000\n",
      "Count:  180000\n",
      "Count:  190000\n",
      "Count:  200000\n",
      "Count:  210000\n",
      "Count:  220000\n",
      "Count:  230000\n",
      "Count:  240000\n",
      "Count:  250000\n",
      "Count:  260000\n",
      "Count:  270000\n",
      "Count:  280000\n",
      "Count:  290000\n",
      "Count:  300000\n",
      "Count:  310000\n",
      "Count:  320000\n",
      "Count:  330000\n",
      "Count:  340000\n",
      "Count:  350000\n",
      "Count:  360000\n",
      "Count:  370000\n",
      "Count:  380000\n",
      "Count:  390000\n",
      "Count:  400000\n",
      "Count:  410000\n",
      "Count:  420000\n",
      "Count:  430000\n",
      "Count:  440000\n",
      "Count:  450000\n",
      "Count:  460000\n",
      "Count:  470000\n",
      "Count:  480000\n",
      "Count:  490000\n",
      "Count:  500000\n",
      "Count:  510000\n",
      "Count:  520000\n",
      "Count:  530000\n",
      "Count:  540000\n",
      "Count:  550000\n",
      "Count:  560000\n",
      "Count:  570000\n",
      "Count:  580000\n",
      "Count:  590000\n",
      "Count:  600000\n",
      "Count:  610000\n",
      "Count:  620000\n",
      "Count:  630000\n",
      "Count:  640000\n",
      "Count:  650000\n",
      "Count:  660000\n",
      "Count:  670000\n",
      "Count:  680000\n",
      "Count:  690000\n",
      "Count:  700000\n",
      "Count:  710000\n",
      "Count:  720000\n",
      "Count:  730000\n",
      "Count:  740000\n",
      "Count:  750000\n",
      "Count:  760000\n",
      "Count:  770000\n",
      "Count:  780000\n",
      "Count:  790000\n",
      "Count:  800000\n",
      "Count:  810000\n",
      "Count:  820000\n",
      "Count:  830000\n",
      "Count:  840000\n",
      "Count:  850000\n",
      "Count:  860000\n",
      "Count:  870000\n",
      "Count:  880000\n",
      "Count:  890000\n",
      "Count:  900000\n",
      "Count:  910000\n",
      "Count:  920000\n",
      "Count:  930000\n",
      "Count:  940000\n",
      "Count:  950000\n",
      "Count:  960000\n",
      "Count:  970000\n",
      "Count:  980000\n",
      "Count:  990000\n",
      "Count:  1000000\n",
      "Count:  1010000\n",
      "Count:  1020000\n",
      "Count:  1030000\n",
      "Count:  1040000\n",
      "Count:  1050000\n",
      "Count:  1060000\n",
      "Count:  1070000\n",
      "Count:  1080000\n",
      "Count:  1090000\n",
      "Count:  1100000\n",
      "Count:  1110000\n",
      "Count:  1120000\n",
      "Count:  1130000\n",
      "Count:  1140000\n",
      "Count:  1150000\n",
      "Count:  1160000\n",
      "Count:  1170000\n",
      "Count:  1180000\n",
      "Count:  1190000\n",
      "Count:  1200000\n",
      "Count:  1210000\n",
      "Count:  1220000\n",
      "Count:  1230000\n",
      "Count:  1240000\n",
      "Count:  1250000\n",
      "Count:  1260000\n",
      "Count:  1270000\n",
      "Count:  1280000\n",
      "Count:  1290000\n",
      "Count:  1300000\n",
      "Count:  1310000\n",
      "Count:  1320000\n",
      "Count:  1330000\n",
      "Count:  1340000\n",
      "Count:  1350000\n",
      "Count:  1360000\n",
      "Count:  1370000\n",
      "Count:  1380000\n",
      "Count:  1390000\n",
      "Count:  1400000\n",
      "Count:  1410000\n",
      "Count:  1420000\n",
      "Count:  1430000\n",
      "Count:  1440000\n",
      "Count:  1450000\n",
      "Count:  1460000\n",
      "Count:  1470000\n",
      "Count:  1480000\n",
      "Count:  1490000\n",
      "Count:  1500000\n",
      "Count:  1510000\n",
      "Count:  1520000\n",
      "Count:  1530000\n",
      "Count:  1540000\n",
      "Count:  1550000\n",
      "Count:  1560000\n",
      "Count:  1570000\n",
      "Count:  1580000\n",
      "Count:  1590000\n",
      "Count:  1600000\n",
      "Count:  1610000\n",
      "Count:  1620000\n",
      "Count:  1630000\n",
      "Count:  1640000\n",
      "Count:  1650000\n",
      "Count:  1660000\n",
      "Count:  1670000\n",
      "Count:  1680000\n",
      "Count:  1690000\n",
      "Count:  1700000\n",
      "Count:  1710000\n",
      "Count:  1720000\n",
      "Count:  1730000\n",
      "Count:  1740000\n",
      "Count:  1750000\n",
      "Count:  1760000\n",
      "Count:  1770000\n",
      "Count:  1780000\n",
      "Count:  1790000\n",
      "Count:  1800000\n",
      "Count:  1810000\n",
      "Count:  1820000\n",
      "Count:  1830000\n",
      "Count:  1840000\n",
      "Count:  1850000\n",
      "Count:  1860000\n",
      "Count:  1870000\n",
      "Count:  1880000\n",
      "Count:  1890000\n",
      "Count:  1900000\n",
      "Count:  1910000\n",
      "Count:  1920000\n",
      "Count:  1930000\n",
      "Count:  1940000\n",
      "Count:  1950000\n",
      "Count:  1960000\n",
      "Count:  1970000\n",
      "Count:  1980000\n",
      "Count:  1990000\n",
      "Count:  2000000\n",
      "Count:  2010000\n",
      "Count:  2020000\n",
      "Count:  2030000\n",
      "Count:  2040000\n",
      "Count:  2050000\n",
      "Count:  2060000\n",
      "Count:  2070000\n",
      "Count:  2080000\n",
      "Count:  2090000\n",
      "Count:  2100000\n",
      "Count:  2110000\n",
      "Count:  2120000\n",
      "Count:  2130000\n",
      "Count:  2140000\n",
      "Count:  2150000\n",
      "Count:  2160000\n",
      "Count:  2170000\n",
      "Count:  2180000\n",
      "Count:  2190000\n",
      "Count:  2200000\n",
      "Count:  2210000\n",
      "Count:  2220000\n",
      "Count:  2230000\n",
      "Count:  2240000\n",
      "Count:  2250000\n",
      "Count:  2260000\n",
      "Count:  2270000\n",
      "Count:  2280000\n",
      "Count:  2290000\n",
      "Count:  2300000\n",
      "Count:  2310000\n",
      "Count:  2320000\n",
      "Count:  2330000\n",
      "Count:  2340000\n",
      "Count:  2350000\n",
      "Count:  2360000\n",
      "Count:  2370000\n",
      "Count:  2380000\n",
      "Count:  2390000\n",
      "Count:  2400000\n",
      "Count:  2410000\n",
      "Count:  2420000\n",
      "Count:  2430000\n",
      "Count:  2440000\n",
      "Count:  2450000\n",
      "Count:  2460000\n",
      "Count:  2470000\n",
      "Count:  2480000\n",
      "Count:  2490000\n",
      "Count:  2500000\n",
      "Count:  2510000\n",
      "Count:  2520000\n",
      "Count:  2530000\n",
      "Count:  2540000\n",
      "Count:  2550000\n",
      "Count:  2560000\n",
      "Count:  2570000\n",
      "Count:  2580000\n",
      "Count:  2590000\n",
      "Count:  2600000\n",
      "Count:  2610000\n",
      "Count:  2620000\n",
      "Count:  2630000\n",
      "Count:  2640000\n",
      "Count:  2650000\n",
      "Count:  2660000\n",
      "Count:  2670000\n",
      "Count:  2680000\n",
      "Count:  2690000\n",
      "Count:  2700000\n",
      "Count:  2710000\n",
      "Count:  2720000\n",
      "Count:  2730000\n",
      "Count:  2740000\n",
      "Count:  2750000\n",
      "Count:  2760000\n",
      "Count:  2770000\n",
      "Count:  2780000\n",
      "Count:  2790000\n",
      "Count:  2800000\n",
      "Count:  2810000\n",
      "Count:  2820000\n",
      "Count:  2830000\n",
      "Count:  2840000\n",
      "Count:  2850000\n",
      "Count:  2860000\n",
      "Count:  2870000\n",
      "Count:  2880000\n",
      "Count:  2890000\n",
      "Count:  2900000\n",
      "Count:  2910000\n",
      "Count:  2920000\n",
      "Count:  2930000\n",
      "Count:  2940000\n",
      "Count:  2950000\n",
      "Count:  2960000\n",
      "Count:  2970000\n",
      "Count:  2980000\n",
      "Count:  2990000\n",
      "Count:  3000000\n",
      "Count:  3010000\n",
      "Count:  3020000\n",
      "Count:  3030000\n",
      "Count:  3040000\n",
      "Count:  3050000\n",
      "Count:  3060000\n",
      "Count:  3070000\n",
      "Count:  3080000\n",
      "Count:  3090000\n",
      "Count:  3100000\n",
      "Count:  3110000\n",
      "Count:  3120000\n",
      "Count:  3130000\n",
      "Count:  3140000\n",
      "Count:  3150000\n",
      "Count:  3160000\n",
      "Count:  3170000\n",
      "Count:  3180000\n",
      "Count:  3190000\n",
      "Count:  3200000\n",
      "Count:  3210000\n",
      "Count:  3220000\n",
      "Count:  3230000\n",
      "Count:  3240000\n",
      "Count:  3250000\n",
      "Count:  3260000\n",
      "Count:  3270000\n",
      "Count:  3280000\n",
      "Count:  3290000\n",
      "Count:  3300000\n",
      "Count:  3310000\n",
      "Count:  3320000\n",
      "Count:  3330000\n",
      "Count:  3340000\n",
      "Wall time: 44min 32s\n"
     ]
    }
   ],
   "source": [
    "# takes approximately 1 hour\n",
    "%%time\n",
    "inapp_vac_indices = []\n",
    "total_count = 0\n",
    "for ID, vacs in older_than_96[].groupby('ID'):\n",
    "    \n",
    "    # printed output to track progress\n",
    "    total_count += 1\n",
    "    if total_count % 10000 == 0:\n",
    "        print(\"Count: \", total_count)\n",
    "    \n",
    "    # find multi_vac seasons\n",
    "    inapp_vacs = vacs[vacs.vaccines_per_season > 1]\n",
    "    \n",
    "    # no multi_vac seasons\n",
    "    if len(inapp_vacs) < 1:\n",
    "        continue\n",
    "    \n",
    "    season_counts = inapp_vacs['flu_season'].value_counts()\n",
    "    \n",
    "    for season in season_counts.index:\n",
    "        # number of vacs in given multi vac season\n",
    "        count = int(season_counts[season])\n",
    "        \n",
    "        # offset by one vac, as they can have one vac per season\n",
    "        inapp_indices = list(inapp_vacs[inapp_vacs.flu_season == season][1:count].index)\n",
    "        \n",
    "        for ind in inapp_indices:\n",
    "            inapp_vac_indices.append(int(ind))"
   ]
  },
  {
   "cell_type": "code",
   "execution_count": 12,
   "metadata": {
    "collapsed": false
   },
   "outputs": [
    {
     "ename": "NameError",
     "evalue": "name 'inapp_vac_indices' is not defined",
     "output_type": "error",
     "traceback": [
      "\u001b[0;31m---------------------------------------------------------------------------\u001b[0m",
      "\u001b[0;31mNameError\u001b[0m                                 Traceback (most recent call last)",
      "\u001b[0;32m<ipython-input-12-a3a3e564e431>\u001b[0m in \u001b[0;36m<module>\u001b[0;34m()\u001b[0m\n\u001b[1;32m      1\u001b[0m \u001b[1;31m# save indices in a spread sheet\u001b[0m\u001b[1;33m\u001b[0m\u001b[1;33m\u001b[0m\u001b[0m\n\u001b[0;32m----> 2\u001b[0;31m \u001b[0minapp_vac_indices_array\u001b[0m \u001b[1;33m=\u001b[0m \u001b[0mnp\u001b[0m\u001b[1;33m.\u001b[0m\u001b[0marray\u001b[0m\u001b[1;33m(\u001b[0m\u001b[0minapp_vac_indices\u001b[0m\u001b[1;33m)\u001b[0m\u001b[1;33m\u001b[0m\u001b[0m\n\u001b[0m\u001b[1;32m      3\u001b[0m \u001b[0molder_inapp_vac_indices_series\u001b[0m \u001b[1;33m=\u001b[0m \u001b[0mpd\u001b[0m\u001b[1;33m.\u001b[0m\u001b[0mSeries\u001b[0m\u001b[1;33m(\u001b[0m\u001b[0mdata\u001b[0m\u001b[1;33m=\u001b[0m\u001b[0minapp_vac_indices_array\u001b[0m\u001b[1;33m,\u001b[0m \u001b[0mname\u001b[0m\u001b[1;33m=\u001b[0m\u001b[1;34m\"older_inapp_vac_indices\"\u001b[0m\u001b[1;33m)\u001b[0m\u001b[1;33m\u001b[0m\u001b[0m\n\u001b[1;32m      4\u001b[0m \u001b[0molder_inapp_vac_indices_series\u001b[0m\u001b[1;33m.\u001b[0m\u001b[0mto_csv\u001b[0m\u001b[1;33m(\u001b[0m\u001b[1;34m\"older_inapp_vac_indices.csv\"\u001b[0m\u001b[1;33m)\u001b[0m\u001b[1;33m\u001b[0m\u001b[0m\n",
      "\u001b[0;31mNameError\u001b[0m: name 'inapp_vac_indices' is not defined"
     ]
    }
   ],
   "source": [
    "# save indices in a spread sheet\n",
    "inapp_vac_indices_array = np.array(inapp_vac_indices)\n",
    "older_inapp_vac_indices_series = pd.Series(data=inapp_vac_indices_array, name=\"older_inapp_vac_indices\")\n",
    "older_inapp_vac_indices_series.to_csv(\"older_inapp_vac_indices.csv\")"
   ]
  },
  {
   "cell_type": "code",
   "execution_count": null,
   "metadata": {
    "collapsed": true
   },
   "outputs": [],
   "source": [
    "# get ids of inapp vacs in this dataset \n",
    "older_ids = list(set(older_than_96[older_than_96.index.isin(inapp_vac_indices)]['ID'].values))"
   ]
  },
  {
   "cell_type": "code",
   "execution_count": null,
   "metadata": {
    "collapsed": false
   },
   "outputs": [],
   "source": [
    "# filter only appropriate vacs for those older_than_96 (i.e. those not labeled as inappropriate)\n",
    "good_vacs = older_than_96[~older_than_96.index.isin(inapp_vac_indices)]\n",
    "\n",
    "# group on ID and flu season, summing on vac count\n",
    "good_grouped = good_vacs.groupby(['ID', 'flu_season']).agg({'VACCINE_COUNT' : np.sum})\n",
    "\n",
    "# make sure there are none > 1; below should not return any entries\n",
    "good_grouped[good_grouped.VACCINE_COUNT > 1]"
   ]
  },
  {
   "cell_type": "code",
   "execution_count": null,
   "metadata": {
    "collapsed": false
   },
   "outputs": [],
   "source": [
    "# filter only inappropriate vacs (i.e. those labeled as inappropriate)\n",
    "bad_vacs = older_than_96[older_than_96.index.isin(inapp_vac_indices)]\n",
    "\n",
    "# there should be no seasons with more than 1 vac; the below should not return any entries\n",
    "bad_vacs[bad_vacs.vaccines_per_season < 2]"
   ]
  },
  {
   "cell_type": "code",
   "execution_count": 185,
   "metadata": {
    "collapsed": false
   },
   "outputs": [
    {
     "name": "stdout",
     "output_type": "stream",
     "text": [
      "Wall time: 8min 16s\n"
     ]
    }
   ],
   "source": [
    "%%time\n",
    "# should take approximately 10 minutes\n",
    "# good test df for final condition\n",
    "# test = younger_than_96[(younger_than_96.ID == 367843) | (younger_than_96.ID == 402712) | \n",
    "#                 (younger_than_96.ID == 734909)]\n",
    "\n",
    "only_one_IDs = []\n",
    "correct_IDs = []\n",
    "inappropriate_vacs_one_mult_inds = []\n",
    "inappropriate_vacs_mult_mult_inds = []\n",
    "inappropriate_vacs_one_mult_ids = []\n",
    "inappropriate_vacs_mult_mult_ids = []\n",
    "missed_vacs = []\n",
    "\n",
    "# replace test with younger_than_96\n",
    "for ID, vacs in younger_than_96.groupby('ID'):\n",
    "    max_count = vacs.vaccines_per_season.max()\n",
    "    if max_count > 1: \n",
    "        vac_counts_per_season = vacs.flu_season.value_counts()\n",
    "        multi_vac_seasons = vac_counts_per_season[vac_counts_per_season > 1].sort_index()\n",
    "        # do you need values here??\n",
    "        n_mult_vac_seasons = len(multi_vac_seasons)\n",
    "    \n",
    "    \n",
    "    # never received 2 vacs\n",
    "    if max_count < 2:\n",
    "        only_one_IDs.append(ID)\n",
    "        continue\n",
    "        \n",
    "    # 2 vacs received in only one season\n",
    "    if max_count == 2 and n_mult_vac_seasons == 1:\n",
    "        correct_IDs.append(ID)\n",
    "        continue\n",
    "\n",
    "    # more than 2 vacs in only one season\n",
    "    if max_count > 2 and n_mult_vac_seasons == 1:\n",
    "        # append ID\n",
    "        inappropriate_vacs_one_mult_ids.append(ID)\n",
    "        \n",
    "        multi_vac_season = multi_vac_seasons.index[0]\n",
    "        \n",
    "        # go from index 2 to index num_vacs given one incidence of 2 vacs is appropriate\n",
    "        indices = list(vacs[vacs.flu_season == multi_vac_season][2:].index)\n",
    "        for ind in indices:\n",
    "            inappropriate_vacs_one_mult_inds.append(int(ind))\n",
    "        continue\n",
    "    \n",
    "    # >= 2 vacs in more than one season\n",
    "    if max_count >= 2 and n_mult_vac_seasons > 1:\n",
    "        inappropriate_vacs_mult_mult_ids.append(ID)\n",
    "\n",
    "        first_mult_season = multi_vac_seasons.index[0]\n",
    "        first_mult_season_vacs = vacs[vacs.flu_season == first_mult_season]\n",
    "        \n",
    "        # for the first season: count the first two vaccines as appropriate, everything after as bad\n",
    "        if len(first_mult_season_vacs) > 2: \n",
    "            bad_vac_indices = first_mult_season_vacs[2:].index\n",
    "            for ind in bad_vac_indices:\n",
    "                inappropriate_vacs_mult_mult_inds.append(int(ind))\n",
    "        \n",
    "        # for the next seasons: count everything after 1 vac as bad\n",
    "        for season in multi_vac_seasons.index[1:]:\n",
    "            season_vacs = vacs[vacs.flu_season == season]\n",
    "            bad_vac_indices = season_vacs.index[1:]\n",
    "            for ind in bad_vac_indices:\n",
    "                inappropriate_vacs_mult_mult_inds.append(int(ind))\n",
    "        continue\n",
    "    \n",
    "    # Quality control: this should have length of 0\n",
    "    else:\n",
    "        print(\"MISSED VAC: \", ID)\n",
    "        missed_vacs.append(ID)"
   ]
  },
  {
   "cell_type": "code",
   "execution_count": 246,
   "metadata": {
    "collapsed": false
   },
   "outputs": [],
   "source": [
    "# save indices and ids in a spreadsheet\n",
    "younger_only_one_ids = pd.Series(data=only_one_IDs, name=\"younger_only_one_ids\")\n",
    "younger_only_one_ids.to_csv(\"younger_only_one_ids.csv\")\n",
    "\n",
    "younger_correct_ids = pd.Series(data=correct_IDs, name=\"younger_correct_ids\")\n",
    "younger_correct_ids.to_csv(\"younger_correct_ids.csv\")\n",
    "\n",
    "younger_inappropriate_vacs_one_mult_inds = pd.Series(data=inappropriate_vacs_one_mult_inds, name=\"younger_inappropriate_vacs_one_mult_inds\")\n",
    "younger_inappropriate_vacs_one_mult_inds.to_csv(\"younger_inappropriate_vacs_one_mult_inds.csv\")\n",
    "\n",
    "younger_inappropriate_vacs_mult_mult_inds = pd.Series(data=inappropriate_vacs_mult_mult_inds, name=\"younger_inappropriate_vacs_mult_mult_inds\")\n",
    "younger_inappropriate_vacs_mult_mult_inds.to_csv(\"younger_inappropriate_vacs_mult_mult_inds.csv\")\n",
    "\n",
    "younger_one_mult_ids = pd.Series(data=inappropriate_vacs_one_mult_ids, name=\"younger_inappropriate_vacs_one_mult_ids\")\n",
    "younger_one_mult_ids.to_csv(\"younger_inappropriate_vacs_one_mult_ids.csv\")\n",
    "\n",
    "younger_mult_mult_ids = pd.Series(data=inappropriate_vacs_mult_mult_ids, name=\"inappropriate_vacs_mult_mult_ids\")\n",
    "younger_mult_mult_ids.to_csv(\"younger_mult_mult_ids.csv\")"
   ]
  },
  {
   "cell_type": "code",
   "execution_count": 73,
   "metadata": {
    "collapsed": false
   },
   "outputs": [
    {
     "name": "stdout",
     "output_type": "stream",
     "text": [
      "Wall time: 15.6 s\n"
     ]
    }
   ],
   "source": [
    "%%time\n",
    "# jump into analysis here w/o having to recalculate all the values\n",
    "# fully analyzed data w/ appropriate column\n",
    "# import this and set it to df to do the analysis below\n",
    "df_analyzed = pd.read_csv(\"vaccines_with_appropriate_column.csv\")\n",
    "df = df_analyzed\n",
    "\n",
    "# data to load\n",
    "only_one_ids = pd.read_csv(\"younger_only_one_ids.csv\", header=None)\n",
    "correct_IDs = pd.read_csv(\"younger_correct_ids.csv\", header=None)\n",
    "inappropriate_vacs_one_mult_inds = pd.read_csv(\"younger_inappropriate_vacs_one_mult_inds.csv\", header=None)\n",
    "inappropriate_vacs_mult_mult_inds = pd.read_csv(\"younger_inappropriate_vacs_mult_mult_inds.csv\", header=None)\n",
    "inappropriate_vacs_one_mult_ids = pd.read_csv(\"younger_inappropriate_vacs_one_mult_ids.csv\", header=None)\n",
    "inappropriate_vacs_mult_mult_ids = pd.read_csv(\"younger_mult_mult_ids.csv\", header=None)\n",
    "inapp_vac_indices = pd.read_csv(\"older_inapp_vac_indices.csv\", header=None)\n",
    "\n",
    "# convert imported ids and inds to lists\n",
    "only_one_IDs = only_one_ids[1].values.tolist()\n",
    "correct_IDs = correct_IDs[1].values.tolist()\n",
    "inappropriate_vacs_one_mult_inds = inappropriate_vacs_one_mult_inds[1].values.tolist()\n",
    "inappropriate_vacs_mult_mult_inds = inappropriate_vacs_mult_mult_inds[1].values.tolist()\n",
    "inappropriate_vacs_one_mult_ids = inappropriate_vacs_one_mult_ids[1].values.tolist()\n",
    "inappropriate_vacs_mult_mult_ids = inappropriate_vacs_mult_mult_ids[1].values.tolist()\n",
    "inapp_vac_indices = inapp_vac_indices[1].values.tolist()\n",
    "\n",
    "# redefine age > 96m df\n",
    "older_than_96 = df[df.max_age_for_season > 96]\n",
    "\n",
    "# those <= 96\n",
    "younger_than_96 = df[df.max_age_for_season <= 96]"
   ]
  },
  {
   "cell_type": "code",
   "execution_count": 43,
   "metadata": {
    "collapsed": false
   },
   "outputs": [
    {
     "data": {
      "text/html": [
       "<div>\n",
       "<table border=\"1\" class=\"dataframe\">\n",
       "  <thead>\n",
       "    <tr style=\"text-align: right;\">\n",
       "      <th></th>\n",
       "      <th>Unnamed: 0</th>\n",
       "      <th>ID</th>\n",
       "      <th>VACCINATION_DATE</th>\n",
       "      <th>ENTERED_BY_ORG</th>\n",
       "      <th>AGE_IN_MONTHS</th>\n",
       "      <th>flu_season</th>\n",
       "      <th>VACCINE_COUNT</th>\n",
       "      <th>vaccines_per_season</th>\n",
       "      <th>max_age_for_season</th>\n",
       "      <th>appropriate</th>\n",
       "      <th>nunique_clinics_per_season</th>\n",
       "    </tr>\n",
       "  </thead>\n",
       "  <tbody>\n",
       "  </tbody>\n",
       "</table>\n",
       "</div>"
      ],
      "text/plain": [
       "Empty DataFrame\n",
       "Columns: [Unnamed: 0, ID, VACCINATION_DATE, ENTERED_BY_ORG, AGE_IN_MONTHS, flu_season, VACCINE_COUNT, vaccines_per_season, max_age_for_season, appropriate, nunique_clinics_per_season]\n",
       "Index: []"
      ]
     },
     "execution_count": 43,
     "metadata": {},
     "output_type": "execute_result"
    }
   ],
   "source": [
    "# only one test\n",
    "only_one_df = younger_than_96[younger_than_96.ID.isin(only_one_IDs)]\n",
    "only_one_df[only_one_df.vaccines_per_season > 1]"
   ]
  },
  {
   "cell_type": "code",
   "execution_count": 44,
   "metadata": {
    "collapsed": false
   },
   "outputs": [
    {
     "data": {
      "text/plain": [
       "True"
      ]
     },
     "execution_count": 44,
     "metadata": {},
     "output_type": "execute_result"
    }
   ],
   "source": [
    "# correct_IDs test\n",
    "# can count the number of two vac season in the correct IDs w/ a group by and count\n",
    "correct_ids_df = younger_than_96[younger_than_96.ID.isin(correct_IDs)]\n",
    "correct_ids_df_grouped = correct_ids_df.groupby(['ID', 'flu_season']).agg({'VACCINE_COUNT' : np.sum})\n",
    "mult_vac_seasons = correct_ids_df_grouped[correct_ids_df_grouped.VACCINE_COUNT > 1]\n",
    "\n",
    "# test that list of all unique ids in mult vac seasons > 1 are equal to the len of original df\n",
    "ids = []\n",
    "for ind in mult_vac_seasons.index:\n",
    "    ids.append(ind[0])\n",
    "ids = set(ids)\n",
    "ids = list(ids)\n",
    "\n",
    "# only one ID per season => success\n",
    "len(ids) == mult_vac_seasons.shape[0]"
   ]
  },
  {
   "cell_type": "code",
   "execution_count": 45,
   "metadata": {
    "collapsed": false
   },
   "outputs": [
    {
     "data": {
      "text/plain": [
       "True"
      ]
     },
     "execution_count": 45,
     "metadata": {},
     "output_type": "execute_result"
    }
   ],
   "source": [
    "# test for one_mult_vacs\n",
    "# can count the number of multi vac seasons w/ a group by\n",
    "# make sure there is only one\n",
    "# then make sure there is > 2 vacs in that season\n",
    "\n",
    "one_mult_vac_df = younger_than_96[younger_than_96.ID.isin(inappropriate_vacs_one_mult_ids)]\n",
    "one_mult_vac_df_grouped = one_mult_vac_df.groupby(['ID', 'flu_season']).agg({'VACCINE_COUNT' : np.sum})\n",
    "mult_vac_seasons = one_mult_vac_df_grouped[one_mult_vac_df_grouped.VACCINE_COUNT > 1]\n",
    "\n",
    "# test that list of all unique ids in mult vac seasons > 1 are equal to the len of that df\n",
    "ids = []\n",
    "for ind in mult_vac_seasons.index:\n",
    "    ids.append(ind[0])\n",
    "ids = set(ids)\n",
    "ids = list(ids)\n",
    "\n",
    "# only one ID per season => success\n",
    "len(ids) == mult_vac_seasons.shape[0]"
   ]
  },
  {
   "cell_type": "code",
   "execution_count": 46,
   "metadata": {
    "collapsed": false
   },
   "outputs": [],
   "source": [
    "# test for mult_mult vacs\n",
    "# maybe just eyeball this one, not good way of grouping this right now\n",
    "mult_mult_vac_df = younger_than_96[younger_than_96.ID.isin(inappropriate_vacs_mult_mult_ids)]\n",
    "mult_mult_vac_df_grouped = mult_mult_vac_df.groupby(['ID', 'flu_season']).agg({'VACCINE_COUNT' : np.sum})\n",
    "mult_vac_seasons = mult_mult_vac_df_grouped[mult_mult_vac_df_grouped.VACCINE_COUNT > 1]\n",
    "\n",
    "mult_vac_seasons\n",
    "\n",
    "ids = []\n",
    "for ind in mult_vac_seasons.index:\n",
    "    ids.append(ind[0])\n",
    "    \n",
    "from collections import Counter\n",
    "\n",
    "# no mistake\n",
    "count = Counter(ids)\n",
    "for value in count.values():\n",
    "    if value < 2:\n",
    "        print(\"MISTAKE\")"
   ]
  },
  {
   "cell_type": "code",
   "execution_count": 47,
   "metadata": {
    "collapsed": false
   },
   "outputs": [],
   "source": [
    "# update original df's vaccines based on appropriateness\n",
    "df.loc[df.index.isin(inapp_vac_indices), \"appropriate\"] = False\n",
    "df.loc[df.index.isin(inappropriate_vacs_one_mult_inds), \"appropriate\"] = False\n",
    "df.loc[df.index.isin(inappropriate_vacs_mult_mult_inds), \"appropriate\"] = False\n",
    "\n"
   ]
  },
  {
   "cell_type": "code",
   "execution_count": 48,
   "metadata": {
    "collapsed": false,
    "scrolled": true
   },
   "outputs": [
    {
     "name": "stderr",
     "output_type": "stream",
     "text": [
      "C:\\Users\\samko\\Anaconda3\\lib\\site-packages\\pandas\\core\\indexing.py:477: SettingWithCopyWarning: \n",
      "A value is trying to be set on a copy of a slice from a DataFrame.\n",
      "Try using .loc[row_indexer,col_indexer] = value instead\n",
      "\n",
      "See the caveats in the documentation: http://pandas.pydata.org/pandas-docs/stable/indexing.html#indexing-view-versus-copy\n",
      "  self.obj[item] = s\n"
     ]
    }
   ],
   "source": [
    "# update age subgroups\n",
    "younger_than_96.loc[younger_than_96.index.isin(inappropriate_vacs_mult_mult_inds), \"appropriate\"] = False\n",
    "younger_than_96.loc[younger_than_96.index.isin(inappropriate_vacs_one_mult_inds), \"appropriate\"] = False\n",
    "older_than_96.loc[older_than_96.index.isin(inapp_vac_indices), \"appropriate\"] = False"
   ]
  },
  {
   "cell_type": "code",
   "execution_count": 49,
   "metadata": {
    "collapsed": false
   },
   "outputs": [],
   "source": [
    "# lengths match up; no errors raised\n",
    "assert younger_than_96[younger_than_96.appropriate == False].shape[0] == len(inappropriate_vacs_one_mult_inds) + len(inappropriate_vacs_mult_mult_inds)\n",
    "assert len(inapp_vac_indices) == older_than_96[older_than_96.appropriate==False].shape[0]\n",
    "assert (len(inapp_vac_indices) + \n",
    " len(inappropriate_vacs_one_mult_inds) + \n",
    " len(inappropriate_vacs_mult_mult_inds)) == df[df.appropriate == False].shape[0]"
   ]
  },
  {
   "cell_type": "code",
   "execution_count": 376,
   "metadata": {
    "collapsed": false
   },
   "outputs": [],
   "source": [
    "# save updated csv to df\n",
    "df.to_csv(\"vaccines_with_appropriate_column.csv\")"
   ]
  },
  {
   "cell_type": "code",
   "execution_count": 50,
   "metadata": {
    "collapsed": false
   },
   "outputs": [
    {
     "name": "stdout",
     "output_type": "stream",
     "text": [
      "Dataset total num of IDs:  4137453\n",
      "Dataset total num IDs with bad vacs:  271579\n",
      "Dataset percent ID's w/ bad vacs :  6.5639%\n",
      "Dataset total num vaccines:  13339584\n",
      "Dataset total num inapp vacs:  324113\n",
      "Dataset total num :  2.4297%\n"
     ]
    }
   ],
   "source": [
    "# summary statistics for original df\n",
    "print(\"Dataset total num of IDs: \", df.ID.nunique())\n",
    "print(\"Dataset total num IDs with bad vacs: \", df[df.appropriate == False].ID.nunique())\n",
    "print(\"Dataset percent ID's w/ bad vacs : \", \"{:.4f}%\".format(271579 / 4137453 * 100))\n",
    "print(\"Dataset total num vaccines: \", df.shape[0])\n",
    "print(\"Dataset total num inapp vacs: \", df[df.appropriate == False].shape[0])\n",
    "print(\"Dataset total num : \", \"{:.4f}%\".format(324113 / 13339584 * 100))"
   ]
  },
  {
   "cell_type": "code",
   "execution_count": 51,
   "metadata": {
    "collapsed": false
   },
   "outputs": [
    {
     "name": "stdout",
     "output_type": "stream",
     "text": [
      "Age<=96 total num of IDs:  796128\n",
      "Age<=96 total num IDs with bad vacs:  11793\n",
      "Age<=96 percent ID's w/ bad vacs :  1.4813%\n",
      "Age<=96 total num vaccines:  2340691\n",
      "Age<=96 total num inapp vacs:  12661\n",
      "Age<=96 total num :  0.5409%\n"
     ]
    }
   ],
   "source": [
    "# age <= 96 summary statistics\n",
    "print(\"Age<=96 total num of IDs: \", younger_than_96.ID.nunique())\n",
    "print(\"Age<=96 total num IDs with bad vacs: \", younger_than_96[younger_than_96.appropriate == False].ID.nunique())\n",
    "print(\"Age<=96 percent ID's w/ bad vacs : \", \"{:.4f}%\".format(11793 / 796128 * 100))\n",
    "print(\"Age<=96 total num vaccines: \", younger_than_96.shape[0])\n",
    "print(\"Age<=96 total num inapp vacs: \", younger_than_96[younger_than_96.appropriate == False].shape[0])\n",
    "print(\"Age<=96 total num : \", \"{:.4f}%\".format(12661 / 2340691 * 100))"
   ]
  },
  {
   "cell_type": "code",
   "execution_count": 52,
   "metadata": {
    "collapsed": false
   },
   "outputs": [
    {
     "name": "stdout",
     "output_type": "stream",
     "text": [
      "Age>96 total num of IDs:  3519982\n",
      "Age>96 total num IDs with bad vacs:  259824\n",
      "Age>96 percent ID's w/ bad vacs :  7.3814%\n",
      "Age>96 total num vaccines:  10998893\n",
      "Age>96 total num inapp vacs:  311452\n",
      "Age>96 total num :  2.8317%\n"
     ]
    }
   ],
   "source": [
    "# age > 96m summary statistics \n",
    "print(\"Age>96 total num of IDs: \", older_than_96.ID.nunique())\n",
    "print(\"Age>96 total num IDs with bad vacs: \", older_than_96[older_than_96.appropriate == False].ID.nunique())\n",
    "print(\"Age>96 percent ID's w/ bad vacs : \", \"{:.4f}%\".format(259824 / 3519982 * 100))\n",
    "print(\"Age>96 total num vaccines: \", older_than_96.shape[0])\n",
    "print(\"Age>96 total num inapp vacs: \", older_than_96[older_than_96.appropriate == False].shape[0])\n",
    "print(\"Age>96 total num : \", \"{:.4f}%\".format(311452 / 10998893 * 100))"
   ]
  },
  {
   "cell_type": "code",
   "execution_count": 53,
   "metadata": {
    "collapsed": false
   },
   "outputs": [],
   "source": [
    "# filter only bad vacs\n",
    "bad_vacs = df[df.appropriate == False]\n",
    "bad_vac_ids = df[df.appropriate == False]['ID']"
   ]
  },
  {
   "cell_type": "code",
   "execution_count": 54,
   "metadata": {
    "collapsed": false,
    "scrolled": true
   },
   "outputs": [
    {
     "data": {
      "image/png": "[encoded data removed]",
      "text/plain": [
       "<matplotlib.figure.Figure at 0x269da698550>"
      ]
     },
     "metadata": {},
     "output_type": "display_data"
    },
    {
     "data": {
      "text/html": [
       "<div>\n",
       "<table border=\"1\" class=\"dataframe\">\n",
       "  <thead>\n",
       "    <tr style=\"text-align: right;\">\n",
       "      <th></th>\n",
       "      <th>VACCINE_COUNT</th>\n",
       "    </tr>\n",
       "  </thead>\n",
       "  <tbody>\n",
       "    <tr>\n",
       "      <th>1</th>\n",
       "      <td>230455</td>\n",
       "    </tr>\n",
       "    <tr>\n",
       "      <th>2</th>\n",
       "      <td>32489</td>\n",
       "    </tr>\n",
       "    <tr>\n",
       "      <th>3</th>\n",
       "      <td>6551</td>\n",
       "    </tr>\n",
       "    <tr>\n",
       "      <th>4</th>\n",
       "      <td>1558</td>\n",
       "    </tr>\n",
       "    <tr>\n",
       "      <th>5</th>\n",
       "      <td>413</td>\n",
       "    </tr>\n",
       "    <tr>\n",
       "      <th>6</th>\n",
       "      <td>85</td>\n",
       "    </tr>\n",
       "    <tr>\n",
       "      <th>7</th>\n",
       "      <td>19</td>\n",
       "    </tr>\n",
       "    <tr>\n",
       "      <th>8</th>\n",
       "      <td>4</td>\n",
       "    </tr>\n",
       "    <tr>\n",
       "      <th>9</th>\n",
       "      <td>2</td>\n",
       "    </tr>\n",
       "    <tr>\n",
       "      <th>10</th>\n",
       "      <td>1</td>\n",
       "    </tr>\n",
       "    <tr>\n",
       "      <th>11</th>\n",
       "      <td>1</td>\n",
       "    </tr>\n",
       "    <tr>\n",
       "      <th>16</th>\n",
       "      <td>1</td>\n",
       "    </tr>\n",
       "  </tbody>\n",
       "</table>\n",
       "</div>"
      ],
      "text/plain": [
       "    VACCINE_COUNT\n",
       "1          230455\n",
       "2           32489\n",
       "3            6551\n",
       "4            1558\n",
       "5             413\n",
       "6              85\n",
       "7              19\n",
       "8               4\n",
       "9               2\n",
       "10              1\n",
       "11              1\n",
       "16              1"
      ]
     },
     "execution_count": 54,
     "metadata": {},
     "output_type": "execute_result"
    }
   ],
   "source": [
    "# histogram of the number of bad vacs each individual received since 2009\n",
    "bad_vac_counts = bad_vacs.groupby('ID').agg({\"VACCINE_COUNT\" : np.sum})[\"VACCINE_COUNT\"].value_counts().sort_index()\n",
    "plt.bar(left=bad_vac_counts.index, height=bad_vac_counts)\n",
    "plt.show()\n",
    "bad_vac_counts.to_frame()"
   ]
  },
  {
   "cell_type": "code",
   "execution_count": 55,
   "metadata": {
    "collapsed": false
   },
   "outputs": [
    {
     "data": {
      "text/plain": [
       "0.8485744479506884"
      ]
     },
     "execution_count": 55,
     "metadata": {},
     "output_type": "execute_result"
    }
   ],
   "source": [
    "bad_vac_counts[1:].sum() \n",
    "1 - 41124 / 271579"
   ]
  },
  {
   "cell_type": "code",
   "execution_count": 82,
   "metadata": {
    "collapsed": false,
    "scrolled": false
   },
   "outputs": [
    {
     "name": "stdout",
     "output_type": "stream",
     "text": [
      "Percent (%) top 10 accounted for:  30.313193238160764\n"
     ]
    }
   ],
   "source": [
    "# there are 2009 total clinics\n",
    "clinic_value_counts = bad_vacs.ENTERED_BY_ORG.value_counts().to_frame()\n",
    "clinic_value_counts['percent_total_bad_vacs'] = clinic_value_counts.ENTERED_BY_ORG / len(bad_vacs) * 100\n",
    "\n",
    "# top 10 clinics and their percentage of their bad vacs\n",
    "print(\"Percent (%) top 10 accounted for: \", clinic_value_counts[:10].percent_total_bad_vacs.sum())"
   ]
  },
  {
   "cell_type": "code",
   "execution_count": 62,
   "metadata": {
    "collapsed": false
   },
   "outputs": [
    {
     "name": "stderr",
     "output_type": "stream",
     "text": [
      "C:\\Users\\samko\\Anaconda3\\lib\\site-packages\\pandas\\core\\indexing.py:477: SettingWithCopyWarning: \n",
      "A value is trying to be set on a copy of a slice from a DataFrame.\n",
      "Try using .loc[row_indexer,col_indexer] = value instead\n",
      "\n",
      "See the caveats in the documentation: http://pandas.pydata.org/pandas-docs/stable/indexing.html#indexing-view-versus-copy\n",
      "  self.obj[item] = s\n"
     ]
    }
   ],
   "source": [
    "# this column was created in type object for some reason...\n",
    "bad_vacs.loc[:, \"nunique_clinics_per_season\"] = bad_vacs.nunique_clinics_per_season.astype(int)"
   ]
  },
  {
   "cell_type": "code",
   "execution_count": 64,
   "metadata": {
    "collapsed": false
   },
   "outputs": [],
   "source": [
    "bad_vacs_grouped = bad_vacs.groupby(['ID', 'flu_season']).agg({\"VACCINE_COUNT\" : np.sum, \"nunique_clinics_per_season\" : np.mean})"
   ]
  },
  {
   "cell_type": "code",
   "execution_count": 67,
   "metadata": {
    "collapsed": false
   },
   "outputs": [
    {
     "data": {
      "text/html": [
       "<div>\n",
       "<table border=\"1\" class=\"dataframe\">\n",
       "  <thead>\n",
       "    <tr style=\"text-align: right;\">\n",
       "      <th></th>\n",
       "      <th>one_bad_vac_seasons</th>\n",
       "      <th>two_bad_vac_seasons</th>\n",
       "      <th>three_bad_vac_seasons</th>\n",
       "      <th>four_bad_vac_seasons</th>\n",
       "      <th>more_than_5</th>\n",
       "    </tr>\n",
       "    <tr>\n",
       "      <th>Number of Unique Clinics</th>\n",
       "      <th></th>\n",
       "      <th></th>\n",
       "      <th></th>\n",
       "      <th></th>\n",
       "      <th></th>\n",
       "    </tr>\n",
       "  </thead>\n",
       "  <tbody>\n",
       "    <tr>\n",
       "      <th>1</th>\n",
       "      <td>39027.0</td>\n",
       "      <td>406.0</td>\n",
       "      <td>38.0</td>\n",
       "      <td>4.0</td>\n",
       "      <td>4.0</td>\n",
       "    </tr>\n",
       "    <tr>\n",
       "      <th>2</th>\n",
       "      <td>274483.0</td>\n",
       "      <td>2225.0</td>\n",
       "      <td>51.0</td>\n",
       "      <td>1.0</td>\n",
       "      <td>0.0</td>\n",
       "    </tr>\n",
       "    <tr>\n",
       "      <th>3</th>\n",
       "      <td>191.0</td>\n",
       "      <td>2339.0</td>\n",
       "      <td>25.0</td>\n",
       "      <td>2.0</td>\n",
       "      <td>1.0</td>\n",
       "    </tr>\n",
       "    <tr>\n",
       "      <th>4</th>\n",
       "      <td>0.0</td>\n",
       "      <td>0.0</td>\n",
       "      <td>18.0</td>\n",
       "      <td>0.0</td>\n",
       "      <td>1.0</td>\n",
       "    </tr>\n",
       "    <tr>\n",
       "      <th>5</th>\n",
       "      <td>0.0</td>\n",
       "      <td>0.0</td>\n",
       "      <td>0.0</td>\n",
       "      <td>0.0</td>\n",
       "      <td>1.0</td>\n",
       "    </tr>\n",
       "    <tr>\n",
       "      <th>6</th>\n",
       "      <td>0.0</td>\n",
       "      <td>0.0</td>\n",
       "      <td>0.0</td>\n",
       "      <td>0.0</td>\n",
       "      <td>1.0</td>\n",
       "    </tr>\n",
       "  </tbody>\n",
       "</table>\n",
       "</div>"
      ],
      "text/plain": [
       "                          one_bad_vac_seasons  two_bad_vac_seasons  \\\n",
       "Number of Unique Clinics                                             \n",
       "1                                     39027.0                406.0   \n",
       "2                                    274483.0               2225.0   \n",
       "3                                       191.0               2339.0   \n",
       "4                                         0.0                  0.0   \n",
       "5                                         0.0                  0.0   \n",
       "6                                         0.0                  0.0   \n",
       "\n",
       "                          three_bad_vac_seasons  four_bad_vac_seasons  \\\n",
       "Number of Unique Clinics                                                \n",
       "1                                          38.0                   4.0   \n",
       "2                                          51.0                   1.0   \n",
       "3                                          25.0                   2.0   \n",
       "4                                          18.0                   0.0   \n",
       "5                                           0.0                   0.0   \n",
       "6                                           0.0                   0.0   \n",
       "\n",
       "                          more_than_5  \n",
       "Number of Unique Clinics               \n",
       "1                                 4.0  \n",
       "2                                 0.0  \n",
       "3                                 1.0  \n",
       "4                                 1.0  \n",
       "5                                 1.0  \n",
       "6                                 1.0  "
      ]
     },
     "execution_count": 67,
     "metadata": {},
     "output_type": "execute_result"
    }
   ],
   "source": [
    "# of those who had 1 bad vac, how many unique clinics did they go to that season?\n",
    "# note you can have 3 given those <=96 can get two vacs\n",
    "num_clinics_1_vac = bad_vacs_grouped[bad_vacs_grouped.VACCINE_COUNT == 1]['nunique_clinics_per_season'].value_counts().sort_index().to_frame()\n",
    "num_clinics_1_vac.rename(columns={\"nunique_clinics_per_season\" : \"one_bad_vac_seasons\"}, inplace=True)\n",
    "\n",
    "# of those who had 2 bad vacs, how many unique clinics did they go to that season?\n",
    "num_clinics_2_vacs = bad_vacs_grouped[bad_vacs_grouped.VACCINE_COUNT == 2]['nunique_clinics_per_season'].value_counts().sort_index().to_frame()\n",
    "num_clinics_2_vacs.rename(columns={\"nunique_clinics_per_season\" : \"two_bad_vac_seasons\"}, inplace=True)\n",
    "\n",
    "# of those who had 3 bad vacs, how many unique clinics did they go to that season?\n",
    "num_clinics_3_vacs = bad_vacs_grouped[bad_vacs_grouped.VACCINE_COUNT == 3]['nunique_clinics_per_season'].value_counts().sort_index().to_frame()\n",
    "num_clinics_3_vacs.rename(columns={\"nunique_clinics_per_season\" : \"three_bad_vac_seasons\"}, inplace=True)\n",
    "\n",
    "# of those who had 4 bad vacs, how many unique clinics did they go to that season?\n",
    "num_clinics_4_vacs = bad_vacs_grouped[bad_vacs_grouped.VACCINE_COUNT == 4]['nunique_clinics_per_season'].value_counts().sort_index().to_frame()\n",
    "num_clinics_4_vacs.rename(columns={\"nunique_clinics_per_season\" : \"four_bad_vac_seasons\"}, inplace=True)\n",
    "\n",
    "# of those who had 5 bad vacs, how many unique clinics did they go to that season?\n",
    "num_clinics_5_vacs = bad_vacs_grouped[bad_vacs_grouped.VACCINE_COUNT >= 5]['nunique_clinics_per_season'].value_counts().sort_index().to_frame()\n",
    "num_clinics_5_vacs.rename(columns={\"nunique_clinics_per_season\" : \"more_than_5\"}, inplace=True)\n",
    "\n",
    "clinic_df = pd.merge(num_clinics_1_vac, num_clinics_2_vacs, how=\"outer\", right_index=True, left_index=True)\n",
    "clinic_df = pd.merge(clinic_df, num_clinics_3_vacs, how=\"outer\", right_index=True, left_index=True)  \n",
    "clinic_df = pd.merge(clinic_df, num_clinics_4_vacs, how=\"outer\", right_index=True, left_index=True)  \n",
    "clinic_df = pd.merge(clinic_df, num_clinics_5_vacs, how=\"outer\", right_index=True, left_index=True) \n",
    "clinic_df.fillna(0, inplace=True)\n",
    "\n",
    "clinic_df.index.rename(\"Number of Unique Clinics\", inplace=True)\n",
    "clinic_df"
   ]
  },
  {
   "cell_type": "code",
   "execution_count": 69,
   "metadata": {
    "collapsed": false
   },
   "outputs": [],
   "source": [
    "bad_vacs_per_season = bad_vacs.groupby('flu_season').agg({\"VACCINE_COUNT\" : np.sum})"
   ]
  },
  {
   "cell_type": "code",
   "execution_count": 70,
   "metadata": {
    "collapsed": false
   },
   "outputs": [
    {
     "data": {
      "image/png": "[encoded data removed]",
      "text/plain": [
       "<matplotlib.figure.Figure at 0x2698de42d30>"
      ]
     },
     "metadata": {},
     "output_type": "display_data"
    }
   ],
   "source": [
    "font = {'family' : 'DejaVu Sans',\n",
    "        'weight' : 'normal',\n",
    "        'size'   : 18}\n",
    "\n",
    "# this seems to reset the font settings for all of matplotlib\n",
    "# look into this more\n",
    "plt.rc('font', **font)\n",
    "\n",
    "plt.figure(figsize=(10,5))\n",
    "plt.bar(left=bad_vacs_per_season.index, height=bad_vacs_per_season.values)\n",
    "plt.title(\"Excessive Vaccinations Administered per Flu Season\")\n",
    "plt.xlabel(\"Flu Season\")\n",
    "plt.ylabel(\"# of Excessive Vaccinations\")\n",
    "plt.show()\n",
    "plt.rcdefaults()"
   ]
  },
  {
   "cell_type": "code",
   "execution_count": 71,
   "metadata": {
    "collapsed": false,
    "scrolled": true
   },
   "outputs": [
    {
     "data": {
      "image/png": "[encoded data removed]",
      "text/plain": [
       "<matplotlib.figure.Figure at 0x269da3835f8>"
      ]
     },
     "metadata": {},
     "output_type": "display_data"
    }
   ],
   "source": [
    "inapp_vacs_per_season_old = older_than_96[older_than_96.index.isin(inapp_vac_indices)].groupby('flu_season').agg({'VACCINE_COUNT' : np.sum})\n",
    "plt.bar(left=inapp_vacs_per_season_old.index, height=inapp_vacs_per_season_old.values)\n",
    "plt.title(\"Inappropriate Vaccines for individuals > 96m per flu season\")\n",
    "plt.show()"
   ]
  },
  {
   "cell_type": "code",
   "execution_count": 75,
   "metadata": {
    "collapsed": false
   },
   "outputs": [
    {
     "data": {
      "image/png": "[encoded data removed]",
      "text/plain": [
       "<matplotlib.figure.Figure at 0x269d9b1fc50>"
      ]
     },
     "metadata": {},
     "output_type": "display_data"
    }
   ],
   "source": [
    "inapp_young_vac_inds = inappropriate_vacs_one_mult_inds + inappropriate_vacs_mult_mult_inds\n",
    "inapp_young_vac_df = younger_than_96[younger_than_96.index.isin(inapp_young_vac_inds)]\n",
    "inapp_vacs_per_season_young = inapp_young_vac_df.groupby('flu_season').agg({'VACCINE_COUNT' : np.sum})\n",
    "plt.bar(left=inapp_vacs_per_season_young.index, height=inapp_vacs_per_season_young.values)\n",
    "plt.title(\"Inapp Vacs for <= 96m per flu season\")\n",
    "plt.show()"
   ]
  },
  {
   "cell_type": "code",
   "execution_count": 76,
   "metadata": {
    "collapsed": false
   },
   "outputs": [
    {
     "data": {
      "image/png": "[encoded data removed]",
      "text/plain": [
       "<matplotlib.figure.Figure at 0x269d9b1f630>"
      ]
     },
     "metadata": {},
     "output_type": "display_data"
    }
   ],
   "source": [
    "# Vaccines per flu season\n",
    "vacs_per_season = df.groupby('flu_season').agg({\"VACCINE_COUNT\" : np.sum})\n",
    "plt.bar(left=vacs_per_season.index, height=vacs_per_season.values)\n",
    "plt.title(\"Total vacs per season\")\n",
    "plt.show()"
   ]
  },
  {
   "cell_type": "code",
   "execution_count": 77,
   "metadata": {
    "collapsed": false,
    "scrolled": true
   },
   "outputs": [
    {
     "data": {
      "image/png": "[encoded data removed]",
      "text/plain": [
       "<matplotlib.figure.Figure at 0x269f3af87f0>"
      ]
     },
     "metadata": {},
     "output_type": "display_data"
    }
   ],
   "source": [
    "agg_vacs_at_each_month = df.groupby('AGE_IN_MONTHS').agg({\"VACCINE_COUNT\" : np.sum})\n",
    "plt.scatter(x=agg_vacs_at_each_month.index, y=agg_vacs_at_each_month.values)\n",
    "plt.title(\"num vacs given at each month\")\n",
    "plt.show()"
   ]
  },
  {
   "cell_type": "code",
   "execution_count": 483,
   "metadata": {
    "collapsed": false
   },
   "outputs": [],
   "source": [
    "age_counts = {}\n",
    "for x in range(0, df.AGE_IN_MONTHS.max(), 12):\n",
    "    skip = x+12\n",
    "    counts = df[(df.AGE_IN_MONTHS > x) & (df.AGE_IN_MONTHS <= skip)].shape[0]\n",
    "    age_counts[skip] = counts"
   ]
  },
  {
   "cell_type": "code",
   "execution_count": 509,
   "metadata": {
    "collapsed": false
   },
   "outputs": [
    {
     "data": {
      "image/png": "[encoded data removed]",
      "text/plain": [
       "<matplotlib.figure.Figure at 0x195e6adbe48>"
      ]
     },
     "metadata": {},
     "output_type": "display_data"
    }
   ],
   "source": [
    "plt.bar(left=list(age_counts.keys()), height=list(age_counts.values()), width=5)\n",
    "plt.show()"
   ]
  },
  {
   "cell_type": "code",
   "execution_count": 80,
   "metadata": {
    "collapsed": false
   },
   "outputs": [
    {
     "data": {
      "image/png": "[encoded data removed]",
      "text/plain": [
       "<matplotlib.figure.Figure at 0x269f3b78d30>"
      ]
     },
     "metadata": {},
     "output_type": "display_data"
    }
   ],
   "source": [
    "bad_vacs_by_age = bad_vacs.groupby('AGE_IN_MONTHS').agg({\"VACCINE_COUNT\" : np.sum})\n",
    "plt.scatter(x=bad_vacs_by_age.index, y=bad_vacs_by_age.values)\n",
    "plt.title(\"Inappropriate Vaccines by Age in Months\")\n",
    "plt.xlabel(\"Age in Months\")\n",
    "plt.ylabel(\"Number of Inappropriate Vaccinations\")\n",
    "plt.show()"
   ]
  },
  {
   "cell_type": "code",
   "execution_count": 81,
   "metadata": {
    "collapsed": false
   },
   "outputs": [
    {
     "data": {
      "text/plain": [
       "687"
      ]
     },
     "execution_count": 81,
     "metadata": {},
     "output_type": "execute_result"
    }
   ],
   "source": [
    "bad_vacs_by_age[650:750]['VACCINE_COUNT'].argmax()"
   ]
  }
 ],
 "metadata": {
  "kernelspec": {
   "display_name": "Python 3",
   "language": "python",
   "name": "python3"
  },
  "language_info": {
   "codemirror_mode": {
    "name": "ipython",
    "version": 3
   },
   "file_extension": ".py",
   "mimetype": "text/x-python",
   "name": "python",
   "nbconvert_exporter": "python",
   "pygments_lexer": "ipython3",
   "version": "3.6.0"
  }
 },
 "nbformat": 4,
 "nbformat_minor": 2
}
